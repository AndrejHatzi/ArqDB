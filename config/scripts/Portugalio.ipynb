{
 "cells": [
  {
   "cell_type": "code",
   "execution_count": 3,
   "metadata": {},
   "outputs": [],
   "source": [
    "from selenium import webdriver;\n",
    "from selenium.webdriver.firefox.options import Options;"
   ]
  },
  {
   "cell_type": "code",
   "execution_count": 4,
   "metadata": {},
   "outputs": [],
   "source": [
    "options = Options()\n",
    "options.headless = True\n",
    "driver=webdriver.Firefox(options=options);"
   ]
  },
  {
   "cell_type": "code",
   "execution_count": 10,
   "metadata": {},
   "outputs": [],
   "source": [
    "driver.get(\"https://www.portugalio.com/arquitectura-e-engenharia/meia-via/\");"
   ]
  },
  {
   "cell_type": "code",
   "execution_count": 11,
   "metadata": {},
   "outputs": [
    {
     "name": "stdout",
     "output_type": "stream",
     "text": [
      "15\n"
     ]
    }
   ],
   "source": [
    "enderecos = driver.find_elements_by_class_name(\"list-item-title\");\n",
    "print(len(enderecos))\n",
    "e : int;\n",
    "for e in range(len(enderecos)):\n",
    "    enderecos[e] = enderecos[e].get_attribute(\"href\");"
   ]
  },
  {
   "cell_type": "code",
   "execution_count": 12,
   "metadata": {},
   "outputs": [
    {
     "name": "stdout",
     "output_type": "stream",
     "text": [
      "['https://www.portugalio.com/mstopografo/', 'https://www.portugalio.com/listrave/', 'https://www.portugalio.com/arkilight-architectural-lighting/', 'https://www.portugalio.com/ind/', 'https://www.portugalio.com/grupo-elevo/', 'https://www.portugalio.com/utopia/', 'https://www.portugalio.com/isep-instituto-de-engenharia-do-porto/', 'https://www.portugalio.com/ambitermo-engenharia-e-equipamentos-termicos/', 'https://www.portugalio.com/isec-instituto-superior-de-engenharia-de-coimbra/', 'https://www.portugalio.com/construcoes-corte-recto/', 'https://www.portugalio.com/feup-faculdade-de-engenharia-da-universidade-do-porto/', 'https://www.portugalio.com/faup-faculdade-de-arquitectura-da-universidade-do-porto/', 'https://www.portugalio.com/a400/', 'https://www.portugalio.com/saraiva-associados-architecture-design-urban-planning/', 'https://www.portugalio.com/isel-instituto-superior-de-engenharia-de-lisboa/']\n"
     ]
    }
   ],
   "source": [
    "print(enderecos)"
   ]
  },
  {
   "cell_type": "code",
   "execution_count": 13,
   "metadata": {},
   "outputs": [],
   "source": [
    "driver.get(enderecos[0]);"
   ]
  },
  {
   "cell_type": "code",
   "execution_count": 28,
   "metadata": {
    "scrolled": true
   },
   "outputs": [
    {
     "name": "stdout",
     "output_type": "stream",
     "text": [
      "249811084\n"
     ]
    }
   ],
   "source": [
    "telefone = driver.find_element_by_css_selector(\"div.company-flat-subheader:nth-child(1)\").text.replace(' ','')[0:9];\n",
    "print(telefone)"
   ]
  },
  {
   "cell_type": "code",
   "execution_count": 22,
   "metadata": {},
   "outputs": [
    {
     "name": "stdout",
     "output_type": "stream",
     "text": [
      "Engecole - Engenharia Ecologica, Lda\n"
     ]
    }
   ],
   "source": [
    "name = driver.find_element_by_id(\"page-title\").text;\n",
    "print(name)\n"
   ]
  },
  {
   "cell_type": "code",
   "execution_count": null,
   "metadata": {},
   "outputs": [],
   "source": []
  },
  {
   "cell_type": "code",
   "execution_count": 19,
   "metadata": {
    "scrolled": true
   },
   "outputs": [
    {
     "name": "stdout",
     "output_type": "stream",
     "text": [
      "39.529303, -8.55606\n"
     ]
    }
   ],
   "source": [
    "latlong = driver.find_element_by_class_name(\"company-flat-map-gps\").text[5:-1];\n",
    "print(latlong);"
   ]
  },
  {
   "cell_type": "code",
   "execution_count": 14,
   "metadata": {},
   "outputs": [],
   "source": [
    "e : int;\n",
    "for e in range(len(enderecos)):\n",
    "    driver.get(enderecos[e]);\n",
    "    name = driver.find_element_by_id(\"page-title\").text;\n",
    "    latlong = driver.find_element_by_class_name(\"company-flat-map-gps\").text[5:-1];\n",
    "    telefone = driver.find_element_by_css_selector(\"div.company-flat-subheader:nth-child(1)\").text.replace(' ','')[0:9];\n",
    "    with open('empr.sts', 'a', encoding='utf-8') as f:\n",
    "        Empresa = ('{},{},{}\\n').format(name,latlong,telefone);\n",
    "        f.write(Empresa);"
   ]
  }
 ],
 "metadata": {
  "kernelspec": {
   "display_name": "Python 3",
   "language": "python",
   "name": "python3"
  },
  "language_info": {
   "codemirror_mode": {
    "name": "ipython",
    "version": 3
   },
   "file_extension": ".py",
   "mimetype": "text/x-python",
   "name": "python",
   "nbconvert_exporter": "python",
   "pygments_lexer": "ipython3",
   "version": "3.6.8"
  }
 },
 "nbformat": 4,
 "nbformat_minor": 2
}

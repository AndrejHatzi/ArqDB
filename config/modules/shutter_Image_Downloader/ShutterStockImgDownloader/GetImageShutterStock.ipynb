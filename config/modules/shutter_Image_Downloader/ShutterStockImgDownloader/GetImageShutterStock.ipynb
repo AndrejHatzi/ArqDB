{
 "cells": [
  {
   "cell_type": "code",
   "execution_count": 2,
   "metadata": {},
   "outputs": [],
   "source": [
    "from selenium import webdriver\n",
    "import requests\n",
    "driver = webdriver.Firefox()\n"
   ]
  },
  {
   "cell_type": "code",
   "execution_count": 12,
   "metadata": {},
   "outputs": [],
   "source": [
    "driver.get('https://www.shutterstock.com/search/stone+arrowhead')\n",
    "driver.execute_script(\"window.scrollTo(0, document.body.scrollHeight);\")\n",
    "elements = driver.find_elements_by_css_selector(\"div.img-wrap img\")\n",
    "l = 0\n",
    "for image in elements:\n",
    "    link = ((image).get_attribute('src'))\n",
    "    r = requests.get(link, allow_redirects=True)\n",
    "    name = (\"images/m{}.png\").format(l)\n",
    "    with open(name, 'wb') as f:\n",
    "        f.write(r.content)\n",
    "    l += 1"
   ]
  }
 ],
 "metadata": {
  "kernelspec": {
   "display_name": "Python 3",
   "language": "python",
   "name": "python3"
  },
  "language_info": {
   "codemirror_mode": {
    "name": "ipython",
    "version": 3
   },
   "file_extension": ".py",
   "mimetype": "text/x-python",
   "name": "python",
   "nbconvert_exporter": "python",
   "pygments_lexer": "ipython3",
   "version": "3.6.5"
  }
 },
 "nbformat": 4,
 "nbformat_minor": 2
}
